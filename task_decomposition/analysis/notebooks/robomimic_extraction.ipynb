{
 "cells": [
  {
   "cell_type": "code",
   "execution_count": 11,
   "metadata": {},
   "outputs": [],
   "source": [
    "import h5py\n",
    "import numpy as np\n",
    "import json\n",
    "import pprint\n",
    "import pandas as pd\n",
    "pp = pprint.PrettyPrinter(indent=4)  # You can adjust the indentation as needed\n",
    "\n",
    "from task_decomposition.paths import DATA_ROBOMIMIC_PATH\n",
    "from task_decomposition.utils.logging import save_df_to_txt"
   ]
  },
  {
   "cell_type": "code",
   "execution_count": 28,
   "metadata": {},
   "outputs": [],
   "source": [
    "# Transport\n",
    "filename = DATA_ROBOMIMIC_PATH + '/transport/low_dim_v141.hdf5'\n",
    "# filename = DATA_ROBOMIMIC_PATH + '/tool_hang/unpack.hdf5'\n",
    "f = h5py.File(filename, 'r')\n",
    "\n",
    "env_meta = json.loads(f[\"data\"].attrs[\"env_args\"])\n",
    "\n",
    "demos = list(f['data'].keys())\n",
    "idx = 0\n",
    "\n",
    "n_steps = f[\"data/{}/states\".format(demos[idx])].shape[0]\n",
    "ep = demos[idx]\n",
    "# ep_states = f[\"data/{}/states\".format(ep)][()]\n",
    "ep_actions = f[\"data/{}/actions\".format(ep)][()]\n",
    "ep_robot0_eef_pos = f[\"data/{}/obs/robot0_eef_pos\".format(ep)][()]\n",
    "ep_robot1_eef_pos = f[\"data/{}/obs/robot1_eef_pos\".format(ep)][()]\n",
    "ep_objects = f[\"data/{}/obs/object\".format(ep)][()]"
   ]
  },
  {
   "cell_type": "code",
   "execution_count": 32,
   "metadata": {},
   "outputs": [],
   "source": [
    "# transport\n",
    "actions_to_record = [\"robot0_action\", \"robot1_action\"]\n",
    "meta_data_to_record = []\n",
    "obs_to_record = [\n",
    "    \"robot0_eef_pos\",\n",
    "    \"robot1_eef_pos\",\n",
    "]\n",
    "\n",
    "data_to_record = [\"step\"] + actions_to_record + obs_to_record + meta_data_to_record\n",
    "\n",
    "k = 0\n",
    "df = pd.DataFrame(columns=data_to_record)\n",
    "for k in range(n_steps):\n",
    "    row_data = {\n",
    "        \"step\": k,\n",
    "        \"robot0_action\": np.around(ep_actions[k][:7], 2).tolist(),\n",
    "        \"robot1_action\": np.around(ep_actions[k][7:], 2).tolist(),\n",
    "        \"robot0_eef_pos\": np.around(ep_robot0_eef_pos[k], 2).tolist(),\n",
    "        \"robot1_eef_pos\": np.around(ep_robot1_eef_pos[k], 2).tolist(),\n",
    "    }\n",
    "    df.loc[k] = row_data\n",
    "    k += 1 \n",
    "f.close()\n",
    "\n",
    "save_df_to_txt(df=df, filename=\"transport\")"
   ]
  },
  {
   "cell_type": "code",
   "execution_count": 35,
   "metadata": {},
   "outputs": [],
   "source": [
    "# Tool Hang\n",
    "filename = DATA_ROBOMIMIC_PATH + '/tool_hang/low_dim_v141.hdf5'\n",
    "f = h5py.File(filename, 'r')\n",
    "\n",
    "env_meta = json.loads(f[\"data\"].attrs[\"env_args\"])\n",
    "\n",
    "demos = list(f['data'].keys())\n",
    "idx = 0\n",
    "\n",
    "n_steps = f[\"data/{}/states\".format(demos[idx])].shape[0]\n",
    "ep = demos[idx]\n",
    "# ep_states = f[\"data/{}/states\".format(ep)][()]\n",
    "ep_actions = f[\"data/{}/actions\".format(ep)][()]\n",
    "ep_robot0_eef_pos = f[\"data/{}/obs/robot0_eef_pos\".format(ep)][()]"
   ]
  },
  {
   "cell_type": "code",
   "execution_count": 36,
   "metadata": {},
   "outputs": [],
   "source": [
    "actions_to_record = [\"robot0_action\"]\n",
    "meta_data_to_record = []\n",
    "obs_to_record = [\n",
    "    \"robot0_eef_pos\",\n",
    "]\n",
    "\n",
    "data_to_record = [\"step\"] + actions_to_record + obs_to_record + meta_data_to_record\n",
    "\n",
    "k = 0\n",
    "df = pd.DataFrame(columns=data_to_record)\n",
    "for k in range(n_steps):\n",
    "    row_data = {\n",
    "        \"step\": k,\n",
    "        \"robot0_action\": np.around(ep_actions[k][:7], 2).tolist(),\n",
    "        \"robot0_eef_pos\": np.around(ep_robot0_eef_pos[k], 2).tolist(),\n",
    "    }\n",
    "    df.loc[k] = row_data\n",
    "    k += 1 \n",
    "f.close()\n",
    "\n",
    "save_df_to_txt(df=df, filename=\"tool_hang\")"
   ]
  },
  {
   "cell_type": "code",
   "execution_count": null,
   "metadata": {},
   "outputs": [],
   "source": []
  }
 ],
 "metadata": {
  "kernelspec": {
   "display_name": "suite",
   "language": "python",
   "name": "python3"
  },
  "language_info": {
   "codemirror_mode": {
    "name": "ipython",
    "version": 3
   },
   "file_extension": ".py",
   "mimetype": "text/x-python",
   "name": "python",
   "nbconvert_exporter": "python",
   "pygments_lexer": "ipython3",
   "version": "3.8.18"
  }
 },
 "nbformat": 4,
 "nbformat_minor": 2
}
