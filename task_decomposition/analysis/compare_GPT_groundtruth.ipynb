{
 "cells": [
  {
   "cell_type": "code",
   "execution_count": 1,
   "metadata": {},
   "outputs": [
    {
     "name": "stderr",
     "output_type": "stream",
     "text": [
      "/opt/anaconda3/envs/py310/lib/python3.10/site-packages/scipy/__init__.py:146: UserWarning: A NumPy version >=1.17.3 and <1.25.0 is required for this version of SciPy (detected version 1.26.4\n",
      "  warnings.warn(f\"A NumPy version >={np_minversion} and <{np_maxversion}\"\n",
      "2024-02-27 08:25:50.712218: I tensorflow/core/platform/cpu_feature_guard.cc:182] This TensorFlow binary is optimized to use available CPU instructions in performance-critical operations.\n",
      "To enable the following instructions: AVX2 FMA, in other operations, rebuild TensorFlow with the appropriate compiler flags.\n",
      "/opt/anaconda3/envs/py310/lib/python3.10/site-packages/tqdm/auto.py:21: TqdmWarning: IProgress not found. Please update jupyter and ipywidgets. See https://ipywidgets.readthedocs.io/en/stable/user_install.html\n",
      "  from .autonotebook import tqdm as notebook_tqdm\n"
     ]
    }
   ],
   "source": [
    "import os\n",
    "import numpy as np\n",
    "import matplotlib.pyplot as plt\n",
    "import matplotlib.patches as mpatches\n",
    "import seaborn as sns\n",
    "\n",
    "from task_decomposition.analysis.comparisons import (get_subtask_similarity,\n",
    "                                                     get_IOU,\n",
    "                                                     get_semantic_distance,\n",
    "                                                     extract_subtask_from_groundtruth_file,\n",
    "                                                     extract_subtask_from_LLM_output_file)\n",
    "from task_decomposition.utils.random_subtask_decomposition import get_random_subtask_decomposition\n",
    "from task_decomposition.paths import ROBOT_TRAJ_GROUNDTRUTH_DATA_PATH, LLM_OUTPUT_PATH\n",
    "from task_decomposition.constants import START_STEP_IDX, END_STEP_IDX, DESCRIPTION_IDX, ENVIRONMENT_NAMES"
   ]
  },
  {
   "cell_type": "markdown",
   "metadata": {},
   "source": [
    "### Helper Functions"
   ]
  },
  {
   "cell_type": "code",
   "execution_count": 2,
   "metadata": {},
   "outputs": [],
   "source": [
    "def _get_filepaths(env_name: str, llm_model: str, input_mode: str, kind:str) -> list:\n",
    "    \"\"\"\n",
    "    Get the list of groundtruth or LLM output filepaths for a given environment\n",
    "    \"\"\"\n",
    "    if kind == \"groundtruth\":\n",
    "        files_path = ROBOT_TRAJ_GROUNDTRUTH_DATA_PATH(env_name)\n",
    "    elif kind == \"llm_output\":\n",
    "        files_path = LLM_OUTPUT_PATH(llm_model, input_mode, env_name)\n",
    "    else:\n",
    "        raise ValueError(f\"Invalid kind {kind}. Must be either 'groundtruth' or 'llm_outputs'.\")\n",
    "    files = os.listdir(files_path)\n",
    "    files.remove(\".gitkeep\") if \".gitkeep\" in files else None\n",
    "    files.remove(\".DS_Store\") if \".DS_Store\" in files else None\n",
    "    files = [os.path.join(files_path, file) for file in files]\n",
    "    files = sorted(files)\n",
    "    return files"
   ]
  },
  {
   "cell_type": "code",
   "execution_count": 75,
   "metadata": {},
   "outputs": [
    {
     "name": "stdout",
     "output_type": "stream",
     "text": [
      "[(0, 10, 'Move to above can'), (11, 119, 'Move down to can')]\n"
     ]
    }
   ],
   "source": [
    "runid = \"PickPlace_20240213-110236_0\"\n",
    "gt_subtasks = extract_subtask_from_groundtruth_file(filepath=ROBOT_TRAJ_GROUNDTRUTH_DATA_PATH(\"PickPlace\")+f\"/{runid}_gt.txt\")\n",
    "print(gt_subtasks)"
   ]
  },
  {
   "cell_type": "markdown",
   "metadata": {},
   "source": [
    "### Trajectory Visualization Functions"
   ]
  },
  {
   "cell_type": "code",
   "execution_count": 3,
   "metadata": {},
   "outputs": [],
   "source": [
    "def format_string(s: list) -> str:\n",
    "    \"\"\"\n",
    "    Add a newline after every 3 words in the list\n",
    "    \"\"\"\n",
    "    N_WORDS_PER_LINE = 3\n",
    "    x = s.split(\" \")\n",
    "    s_format = []\n",
    "    for i in range(len(x)):\n",
    "        s_format.append(x[i])\n",
    "        s_format.append(\"\\n\") if i % N_WORDS_PER_LINE == 0 else None\n",
    "    return \" \".join(s_format)\n",
    "\n",
    "# Redefine the add_intervals_with_colors function to position the text at the edges\n",
    "def add_intervals_with_colors(intervals, row, color_map, ax, angle):\n",
    "    for idx, (start, end, description) in enumerate(intervals):\n",
    "        color = color_map[0]\n",
    "        rect_width = end - start if end - start > 0 else 1\n",
    "        rect = mpatches.Rectangle(\n",
    "            (start, row), rect_width, 0.8, edgecolor=\"black\", facecolor=color\n",
    "        )\n",
    "        ax.add_patch(rect)\n",
    "\n",
    "        # Position the text at the top and bottom edges of the bars\n",
    "        if row == 1:  # For the top bar, start the text at the top edge\n",
    "            text_y = row + 0.8\n",
    "            va = \"bottom\"\n",
    "        else:  # For the bottom bar, start the text at the bottom edge\n",
    "            text_y = row\n",
    "            va = \"top\"\n",
    "\n",
    "        # Place the text at a 45 degree angle for actual and -45 for predicted\n",
    "        ax.text(\n",
    "            (start+end) / 2,\n",
    "            text_y,\n",
    "            format_string(description),\n",
    "            ha=\"left\",\n",
    "            va=va,\n",
    "            fontsize=\"large\",\n",
    "            color=\"black\",\n",
    "            rotation=angle,\n",
    "            rotation_mode=\"anchor\",\n",
    "        )\n",
    "\n",
    "def plot_trajectory_decomposition(actual, predicted, title, ax=None):\n",
    "    color_map = ['green', 'blue', 'purple', 'orange', 'red', 'yellow', 'pink', 'brown', 'grey', 'cyan']\n",
    "\n",
    "    # preprocess so that each subtask in predicted matches the maximum semantic score in actual\n",
    "    # predicted_color_map = []\n",
    "    # for p in predicted:\n",
    "    #     max_score = -1\n",
    "    #     max_idx = 0\n",
    "    #     for idx, a in enumerate(actual):\n",
    "    #         score = semantic_distance(a[2], p[2])\n",
    "    #         if score >= max_score:\n",
    "    #             max_score = score\n",
    "    #             max_idx = idx\n",
    "    #     predicted_color_map.append(color_map[max_idx])\n",
    "\n",
    "    # Add actual intervals with color map and angle the text at 45 degrees\n",
    "    add_intervals_with_colors(actual, 1, color_map, ax, angle=35)\n",
    "\n",
    "    # Add predicted intervals with color map and angle the text at -45 degrees\n",
    "    add_intervals_with_colors(predicted, 0, color_map, ax, angle=-35)\n",
    "\n",
    "    # Set the limits, labels, and title\n",
    "    ax.set_xlim(-2, max(actual[-1][END_STEP_IDX], predicted[-1][END_STEP_IDX])+5)\n",
    "    ax.set_ylim(-7, 12)\n",
    "    ax.set_yticks([0.4, 1.4])\n",
    "    ax.set_yticklabels([\"Predicted\", \"Ground Truth\"], fontsize=12)\n",
    "    ax.set_xlabel(\"Step Number\")\n",
    "    ax.set_title(title, fontsize=14)\n",
    "\n",
    "    plt.tight_layout()\n",
    "    plt.show()"
   ]
  },
  {
   "cell_type": "markdown",
   "metadata": {},
   "source": [
    "### Visualize Individual Trajectories"
   ]
  },
  {
   "cell_type": "code",
   "execution_count": 81,
   "metadata": {},
   "outputs": [
    {
     "ename": "FileNotFoundError",
     "evalue": "[Errno 2] No such file or directory: '/Users/jonathansalfity/Documents/dev/task_decomposition/task_decomposition/data/gpt-4-vision-preview_outputs/textual/Lift/Lift_20240220-124626_1.json'",
     "output_type": "error",
     "traceback": [
      "\u001b[0;31m---------------------------------------------------------------------------\u001b[0m",
      "\u001b[0;31mFileNotFoundError\u001b[0m                         Traceback (most recent call last)",
      "Cell \u001b[0;32mIn [81], line 26\u001b[0m\n\u001b[1;32m     23\u001b[0m llm_file \u001b[38;5;241m=\u001b[39m LLM_OUTPUT_PATH(llm_model, input_mode, env_name)\u001b[38;5;241m+\u001b[39m\u001b[38;5;124mf\u001b[39m\u001b[38;5;124m\"\u001b[39m\u001b[38;5;124m/\u001b[39m\u001b[38;5;132;01m{\u001b[39;00mrunid\u001b[38;5;132;01m}\u001b[39;00m\u001b[38;5;124m.json\u001b[39m\u001b[38;5;124m\"\u001b[39m \n\u001b[1;32m     25\u001b[0m gt_subtasks \u001b[38;5;241m=\u001b[39m extract_subtask_from_groundtruth_file(filepath\u001b[38;5;241m=\u001b[39mgt_file)\n\u001b[0;32m---> 26\u001b[0m llm_subtasks \u001b[38;5;241m=\u001b[39m \u001b[43mextract_subtask_from_LLM_output_file\u001b[49m\u001b[43m(\u001b[49m\u001b[43mfilepath\u001b[49m\u001b[38;5;241;43m=\u001b[39;49m\u001b[43mllm_file\u001b[49m\u001b[43m,\u001b[49m\n\u001b[1;32m     27\u001b[0m \u001b[43m                                                    \u001b[49m\u001b[43mllm_model\u001b[49m\u001b[38;5;241;43m=\u001b[39;49m\u001b[43mllm_model\u001b[49m\u001b[43m)\u001b[49m\n\u001b[1;32m     29\u001b[0m \u001b[38;5;28mprint\u001b[39m(\u001b[38;5;124mf\u001b[39m\u001b[38;5;124m\"\u001b[39m\u001b[38;5;124mGround Truth Subtasks: \u001b[39m\u001b[38;5;132;01m{\u001b[39;00mgt_subtasks\u001b[38;5;132;01m}\u001b[39;00m\u001b[38;5;124m\"\u001b[39m)\n\u001b[1;32m     30\u001b[0m \u001b[38;5;28mprint\u001b[39m(\u001b[38;5;124mf\u001b[39m\u001b[38;5;124m\"\u001b[39m\u001b[38;5;124mLLM Subtasks: \u001b[39m\u001b[38;5;132;01m{\u001b[39;00mllm_subtasks\u001b[38;5;132;01m}\u001b[39;00m\u001b[38;5;124m\"\u001b[39m)\n",
      "File \u001b[0;32m~/Documents/dev/task_decomposition/task_decomposition/analysis/comparisons.py:114\u001b[0m, in \u001b[0;36mextract_subtask_from_LLM_output_file\u001b[0;34m(filepath, llm_model)\u001b[0m\n\u001b[1;32m    109\u001b[0m \u001b[38;5;124;03m\"\"\"\u001b[39;00m\n\u001b[1;32m    110\u001b[0m \u001b[38;5;124;03mThis function extracts the subtask from the LLM output file.\u001b[39;00m\n\u001b[1;32m    111\u001b[0m \u001b[38;5;124;03mThe LLM output file is a json, with the field \"response\" containing the output of the LLM model.\u001b[39;00m\n\u001b[1;32m    112\u001b[0m \u001b[38;5;124;03m\"\"\"\u001b[39;00m\n\u001b[1;32m    113\u001b[0m \u001b[38;5;66;03m# read the json file and load as a dictionary\u001b[39;00m\n\u001b[0;32m--> 114\u001b[0m \u001b[38;5;28;01mwith\u001b[39;00m \u001b[38;5;28;43mopen\u001b[39;49m\u001b[43m(\u001b[49m\u001b[43mfilepath\u001b[49m\u001b[43m,\u001b[49m\u001b[43m \u001b[49m\u001b[38;5;124;43m\"\u001b[39;49m\u001b[38;5;124;43mr\u001b[39;49m\u001b[38;5;124;43m\"\u001b[39;49m\u001b[43m)\u001b[49m \u001b[38;5;28;01mas\u001b[39;00m f:\n\u001b[1;32m    115\u001b[0m     data \u001b[38;5;241m=\u001b[39m json\u001b[38;5;241m.\u001b[39mload(f)\n\u001b[1;32m    117\u001b[0m \u001b[38;5;28;01mif\u001b[39;00m (\n\u001b[1;32m    118\u001b[0m     llm_model \u001b[38;5;241m==\u001b[39m \u001b[38;5;124m\"\u001b[39m\u001b[38;5;124mgpt-4-vision-preview\u001b[39m\u001b[38;5;124m\"\u001b[39m\n\u001b[1;32m    119\u001b[0m     \u001b[38;5;129;01mor\u001b[39;00m llm_model \u001b[38;5;241m==\u001b[39m \u001b[38;5;124m\"\u001b[39m\u001b[38;5;124mgpt-4-1106-preview\u001b[39m\u001b[38;5;124m\"\u001b[39m\n\u001b[1;32m    120\u001b[0m     \u001b[38;5;129;01mor\u001b[39;00m llm_model \u001b[38;5;241m==\u001b[39m \u001b[38;5;124m\"\u001b[39m\u001b[38;5;124mgemini-pro\u001b[39m\u001b[38;5;124m\"\u001b[39m\n\u001b[1;32m    121\u001b[0m     \u001b[38;5;129;01mor\u001b[39;00m llm_model \u001b[38;5;241m==\u001b[39m \u001b[38;5;124m\"\u001b[39m\u001b[38;5;124mgemini-pro-vision\u001b[39m\u001b[38;5;124m\"\u001b[39m\n\u001b[1;32m    122\u001b[0m ):\n",
      "\u001b[0;31mFileNotFoundError\u001b[0m: [Errno 2] No such file or directory: '/Users/jonathansalfity/Documents/dev/task_decomposition/task_decomposition/data/gpt-4-vision-preview_outputs/textual/Lift/Lift_20240220-124626_1.json'"
     ]
    }
   ],
   "source": [
    "## visualize individual trajectory decompositions\n",
    "# Example 1\n",
    "# llm_model = \"gpt-4-vision-pro\"\n",
    "# input_mode = \"textual\"\n",
    "# env_name = \"NutAssemblySquare\"\n",
    "# runid = \"NutAssemblySquare_20240225-160456_0\"\n",
    "\n",
    "# Example 2\n",
    "llm_model = \"gpt-4-vision-preview\"\n",
    "input_mode = \"textual\"\n",
    "env_name = \"Lift\"\n",
    "runid = \"Lift_20240220-124626_1\"\n",
    "\n",
    "# Example 3\n",
    "# llm_model = \"video-llava\"\n",
    "# input_mode = \"video\"\n",
    "# env_name = \"Stack\"\n",
    "# runid = \"Stack_20240220-131112_39\"\n",
    "\n",
    "\n",
    "## Extract the groundtruth and LLM output files\n",
    "gt_file = ROBOT_TRAJ_GROUNDTRUTH_DATA_PATH(env_name)+f\"/{runid}_gt.txt\"\n",
    "llm_file = LLM_OUTPUT_PATH(llm_model, input_mode, env_name)+f\"/{runid}.json\" \n",
    "\n",
    "gt_subtasks = extract_subtask_from_groundtruth_file(filepath=gt_file)\n",
    "llm_subtasks = extract_subtask_from_LLM_output_file(filepath=llm_file,\n",
    "                                                    llm_model=llm_model)\n",
    "\n",
    "print(f\"Ground Truth Subtasks: {gt_subtasks}\")\n",
    "print(f\"LLM Subtasks: {llm_subtasks}\")\n",
    "\n",
    "similarity = get_subtask_similarity(gt_subtasks, llm_subtasks)\n",
    "print(f\"Similarity between GT and LLM: {similarity}\")\n",
    "\n",
    "# # create new figure\n",
    "fig, ax = plt.subplots(figsize=(14, 4))\n",
    "title = f\"{env_name} Environment, Total{similarity['total']:.2f}, Temporal: {similarity['temporal']:.2f}, Semantic Similarity: {similarity['semantic']:.2f}\"\n",
    "plot_trajectory_decomposition(actual=gt_subtasks,\n",
    "                              predicted=llm_subtasks, \n",
    "                              title=f\"{llm_model} | {input_mode} | {runid} | {similarity}\", \n",
    "                              ax=ax)\n",
    "\n",
    "random_subtask_decomposition = get_random_subtask_decomposition(gt_subtasks[-1][END_STEP_IDX])\n",
    "print(f\"Random Decomposition: {random_subtask_decomposition}\")\n",
    "similarity = get_subtask_similarity(gt_subtasks, random_subtask_decomposition)\n",
    "print(f\"Similarity between GT and Random: {similarity}\")\n",
    "fig, ax = plt.subplots(figsize=(14, 4))\n",
    "title = f\"{env_name} Environment, Total{similarity['total']:.2f}, Temporal: {similarity['temporal']:.2f}, Semantic Similarity: {similarity['semantic']:.2f}\"\n",
    "plot_trajectory_decomposition(actual=gt_subtasks,\n",
    "                              predicted=random_subtask_decomposition, \n",
    "                              title=f\"{llm_model} | {input_mode} | {runid} | {similarity}\", \n",
    "                              ax=ax)\n"
   ]
  },
  {
   "cell_type": "markdown",
   "metadata": {},
   "source": [
    "### Compute Similarity for one Trajectory"
   ]
  },
  {
   "cell_type": "code",
   "execution_count": null,
   "metadata": {},
   "outputs": [],
   "source": [
    "runid = \"NutAssemblySquare_20240225-160809_17\"\n",
    "# runid = \"Stack_20240220-130911_22\"\n",
    "llm_model = \"gpt-4-vision-preview\"\n",
    "input_mode = \"textual\"\n",
    "env_name = \"NutAssemblySquare\"\n",
    "gt_file = ROBOT_TRAJ_GROUNDTRUTH_DATA_PATH(env_name)+f\"/{runid}_gt.txt\"\n",
    "llm_file = LLM_OUTPUT_PATH(llm_model, input_mode, env_name)+f\"/{runid}.json\"\n",
    "gt_subtasks = extract_subtask_from_groundtruth_file(gt_file)\n",
    "llm_subtasks = extract_subtask_from_LLM_output_file(filepath=llm_file, \n",
    "                                                    llm_model=llm_model)\n",
    "print(f\"Ground Truth Subtasks: {gt_subtasks}\")\n",
    "print(f\"LLM Subtasks: {llm_subtasks}\")\n",
    "similarity = get_subtask_similarity(gt_subtasks, llm_subtasks)\n",
    "print(similarity)"
   ]
  },
  {
   "cell_type": "markdown",
   "metadata": {},
   "source": [
    "### Compute Similarity Metrics in batch by ENV_NAME, INPUT_MODE, LLM_MODEL"
   ]
  },
  {
   "cell_type": "code",
   "execution_count": 83,
   "metadata": {},
   "outputs": [
    {
     "name": "stdout",
     "output_type": "stream",
     "text": [
      "Door environment\n",
      " Number of runs: 50, Number of valid runs: 50\n",
      "Temporal: 0.97+/-0.07 |  Semantic: 0.87+/-0.16\n",
      "______\n",
      "Lift environment\n",
      " Number of runs: 50, Number of valid runs: 50\n",
      "Temporal: 0.80+/-0.15 |  Semantic: 0.83+/-0.10\n",
      "______\n",
      "PickPlace environment\n",
      " Number of runs: 50, Number of valid runs: 50\n",
      "Temporal: 0.93+/-0.10 |  Semantic: 0.60+/-0.12\n",
      "______\n",
      "Stack environment\n",
      " Error with Stack_20240220-131058_37: Invalid subtask: start index after end index\n",
      " Number of runs: 50, Number of valid runs: 49\n",
      "Temporal: 0.74+/-0.12 |  Semantic: 0.90+/-0.08\n",
      "______\n"
     ]
    }
   ],
   "source": [
    "def compute_batch_similarity(env_name: str,\n",
    "                             llm_model: str,\n",
    "                             input_mode: str,\n",
    "                             SAVE_OUTPUT: bool = True,\n",
    "                             verbose: bool = True) -> None:\n",
    "    \"\"\"\n",
    "    Compute the similarity between groundtruth and gpt output files for a given environment.\n",
    "    \"\"\"\n",
    "    gt_files = _get_filepaths(env_name=env_name, \n",
    "                                llm_model=llm_model, \n",
    "                                input_mode=input_mode, \n",
    "                                kind=\"groundtruth\")\n",
    "\n",
    "    llm_files = _get_filepaths(env_name=env_name, \n",
    "                                llm_model=llm_model, \n",
    "                                input_mode=input_mode, \n",
    "                                kind=\"llm_output\")\n",
    "\n",
    "    # assert len(gt_files) == len(llm_files), f\"The number of groundtruth files {len(gt_files)} and LLM output files {len(llm_files)} are not the same.\"\n",
    "\n",
    "    n_runs = len(gt_files)\n",
    "    output = {\"temporal\":np.full(n_runs, np.nan), \n",
    "              \"semantic\":np.full(n_runs, np.nan), \n",
    "              \"total\":np.full(n_runs, np.nan)}\n",
    "\n",
    "    for idx, (gt_file, llm_file) in enumerate(zip(gt_files, llm_files)):\n",
    "        # make sure we are comparing the same run\n",
    "        gt_runid = gt_file.split('/')[-1].split('_gt')[0]\n",
    "        llm_runid = llm_file.split('/')[-1].split('.json')[0]\n",
    "        assert gt_runid==llm_runid, f\"The groundtruth file {gt_file} and llm output file {llm_file} are not from the same run.\"\n",
    "\n",
    "        # extract subtasks from groundtruth and gpt output files\n",
    "        gt_subtasks = extract_subtask_from_groundtruth_file(gt_file)\n",
    "        llm_subtasks = extract_subtask_from_LLM_output_file(filepath=llm_file, \n",
    "                                                            llm_model=llm_model)\n",
    "\n",
    "        if llm_subtasks == []:    # error with processing the file\n",
    "            print(f\" LLM subtask for {llm_runid} is empty\")\n",
    "            continue\n",
    "\n",
    "        # compare the subtasks\n",
    "        try:\n",
    "            similarity = get_subtask_similarity(gt_subtasks, llm_subtasks)\n",
    "        except Exception as e:\n",
    "            print(f\" Error with {llm_runid}: {e}\")\n",
    "            continue\n",
    "        output['temporal'][idx]=similarity[\"temporal\"]\n",
    "        output['semantic'][idx]=similarity[\"semantic\"]\n",
    "        output['total'][idx]=similarity[\"total\"]\n",
    "        if verbose:\n",
    "            print(f\"{gt_runid} and {llm_runid}\")\n",
    "            print(f\" Temporal: {similarity['temporal']:.2f} | Semantic: {similarity['semantic']:.2f}\")\n",
    "\n",
    "    # Clean the output in case nans are present\n",
    "    output['temporal'] = output['temporal'][~np.isnan(output['temporal'])]\n",
    "    output['semantic'] = output['semantic'][~np.isnan(output['semantic'])]\n",
    "    output['total'] = output['total'][~np.isnan(output['total'])]\n",
    "\n",
    "    if SAVE_OUTPUT:\n",
    "        np.savez(f\"{LLM_OUTPUT_PATH(llm_model, input_mode, env_name)}_results.npz\", **output)\n",
    "\n",
    "    print(f\" Number of runs: {n_runs}, Number of valid runs: {len(output['total'])}\")\n",
    "    print(f\"Temporal: {np.mean(output['temporal']):.2f}+/-{np.std(output['temporal']):.2f} |  Semantic: {np.mean(output['semantic']):.2f}+/-{np.std(output['semantic']):.2f}\")\n",
    "    print(\"______\")\n",
    "\n",
    "env_names = ENVIRONMENT_NAMES\n",
    "input_mode = \"textual\"\n",
    "llm_model = \"gpt-4-vision-preview\"\n",
    "# llm_model = \"gemini-pro\"\n",
    "for env_name in env_names:\n",
    "    print(f\"{env_name} environment\")\n",
    "    compute_batch_similarity(env_name=env_name,\n",
    "                            input_mode=input_mode,\n",
    "                            llm_model=llm_model,\n",
    "                            SAVE_OUTPUT=True,\n",
    "                            verbose=False)\n"
   ]
  },
  {
   "cell_type": "code",
   "execution_count": 46,
   "metadata": {},
   "outputs": [
    {
     "ename": "FileNotFoundError",
     "evalue": "[Errno 2] No such file or directory: '/Users/jonathansalfity/Documents/dev/task_decomposition/task_decomposition/data/video-llava_outputs/video/PickPlace_results.npz'",
     "output_type": "error",
     "traceback": [
      "\u001b[0;31m---------------------------------------------------------------------------\u001b[0m",
      "\u001b[0;31mFileNotFoundError\u001b[0m                         Traceback (most recent call last)",
      "Cell \u001b[0;32mIn [46], line 33\u001b[0m\n\u001b[1;32m     31\u001b[0m envs \u001b[38;5;241m=\u001b[39m ENVIRONMENT_NAMES\n\u001b[1;32m     32\u001b[0m input_modes \u001b[38;5;241m=\u001b[39m [\u001b[38;5;124m\"\u001b[39m\u001b[38;5;124mvideo\u001b[39m\u001b[38;5;124m\"\u001b[39m]\n\u001b[0;32m---> 33\u001b[0m \u001b[43mmake_histogram_grid\u001b[49m\u001b[43m(\u001b[49m\u001b[43menvs\u001b[49m\u001b[43m,\u001b[49m\u001b[43m \u001b[49m\u001b[43minput_modes\u001b[49m\u001b[43m)\u001b[49m\n",
      "Cell \u001b[0;32mIn [46], line 18\u001b[0m, in \u001b[0;36mmake_histogram_grid\u001b[0;34m(env_names, input_modes)\u001b[0m\n\u001b[1;32m     16\u001b[0m \u001b[38;5;28;01mfor\u001b[39;00m j, input_mode \u001b[38;5;129;01min\u001b[39;00m \u001b[38;5;28menumerate\u001b[39m(input_modes):\n\u001b[1;32m     17\u001b[0m     npresultspath \u001b[38;5;241m=\u001b[39m LLM_OUTPUT_PATH(llm_model, input_mode, env_name)\n\u001b[0;32m---> 18\u001b[0m     similarity \u001b[38;5;241m=\u001b[39m \u001b[43mnp\u001b[49m\u001b[38;5;241;43m.\u001b[39;49m\u001b[43mload\u001b[49m\u001b[43m(\u001b[49m\u001b[38;5;124;43mf\u001b[39;49m\u001b[38;5;124;43m\"\u001b[39;49m\u001b[38;5;132;43;01m{\u001b[39;49;00m\u001b[43mnpresultspath\u001b[49m\u001b[38;5;132;43;01m}\u001b[39;49;00m\u001b[38;5;124;43m_results.npz\u001b[39;49m\u001b[38;5;124;43m\"\u001b[39;49m\u001b[43m,\u001b[49m\u001b[43m \u001b[49m\u001b[43mallow_pickle\u001b[49m\u001b[38;5;241;43m=\u001b[39;49m\u001b[38;5;28;43;01mTrue\u001b[39;49;00m\u001b[43m)\u001b[49m\n\u001b[1;32m     19\u001b[0m     temporal \u001b[38;5;241m=\u001b[39m similarity[\u001b[38;5;124m'\u001b[39m\u001b[38;5;124mtemporal\u001b[39m\u001b[38;5;124m'\u001b[39m]\n\u001b[1;32m     20\u001b[0m     semantic \u001b[38;5;241m=\u001b[39m similarity[\u001b[38;5;124m'\u001b[39m\u001b[38;5;124msemantic\u001b[39m\u001b[38;5;124m'\u001b[39m]\n",
      "File \u001b[0;32m/opt/anaconda3/envs/py310/lib/python3.10/site-packages/numpy/lib/npyio.py:427\u001b[0m, in \u001b[0;36mload\u001b[0;34m(file, mmap_mode, allow_pickle, fix_imports, encoding, max_header_size)\u001b[0m\n\u001b[1;32m    425\u001b[0m     own_fid \u001b[38;5;241m=\u001b[39m \u001b[38;5;28;01mFalse\u001b[39;00m\n\u001b[1;32m    426\u001b[0m \u001b[38;5;28;01melse\u001b[39;00m:\n\u001b[0;32m--> 427\u001b[0m     fid \u001b[38;5;241m=\u001b[39m stack\u001b[38;5;241m.\u001b[39menter_context(\u001b[38;5;28;43mopen\u001b[39;49m\u001b[43m(\u001b[49m\u001b[43mos_fspath\u001b[49m\u001b[43m(\u001b[49m\u001b[43mfile\u001b[49m\u001b[43m)\u001b[49m\u001b[43m,\u001b[49m\u001b[43m \u001b[49m\u001b[38;5;124;43m\"\u001b[39;49m\u001b[38;5;124;43mrb\u001b[39;49m\u001b[38;5;124;43m\"\u001b[39;49m\u001b[43m)\u001b[49m)\n\u001b[1;32m    428\u001b[0m     own_fid \u001b[38;5;241m=\u001b[39m \u001b[38;5;28;01mTrue\u001b[39;00m\n\u001b[1;32m    430\u001b[0m \u001b[38;5;66;03m# Code to distinguish from NumPy binary files and pickles.\u001b[39;00m\n",
      "\u001b[0;31mFileNotFoundError\u001b[0m: [Errno 2] No such file or directory: '/Users/jonathansalfity/Documents/dev/task_decomposition/task_decomposition/data/video-llava_outputs/video/PickPlace_results.npz'"
     ]
    },
    {
     "data": {
      "image/png": "[encoded data removed]",
      "text/plain": [
       "<Figure size 2500x500 with 4 Axes>"
      ]
     },
     "metadata": {},
     "output_type": "display_data"
    }
   ],
   "source": [
    "# sns.histplot(data=[temporal, semantic, total], legend=True, kde=True, bins=25)\n",
    "# env_name = \"Door\"\n",
    "# query_type = \"video\"\n",
    "# npresultspath = GPT_OUTPUT_PATH+f\"/{query_type}/{env_name}\" \n",
    "# similarity = np.load(f\"{npresultspath}_results.npz\", allow_pickle=True)\n",
    "N_BINS = 20\n",
    "def make_histogram_grid(env_names: list, input_modes: list):\n",
    "    \"\"\"\n",
    "    Create a grid of histograms for the similarity scores between groundtruth and gpt output files.\n",
    "    Each histogram will show the distribution of the similarity scores for a given environment and query type.\n",
    "    \"\"\"\n",
    "    n_rows = len(input_modes)\n",
    "    n_cols = len(env_names)\n",
    "    fig, axs = plt.subplots(n_rows, n_cols, figsize=(25, 5*n_rows))\n",
    "    for i, env_name in enumerate(env_names):\n",
    "        for j, input_mode in enumerate(input_modes):\n",
    "            npresultspath = LLM_OUTPUT_PATH(llm_model, input_mode, env_name)\n",
    "            similarity = np.load(f\"{npresultspath}_results.npz\", allow_pickle=True)\n",
    "            temporal = similarity['temporal']\n",
    "            semantic = similarity['semantic']\n",
    "            ax = axs[j, i] if n_rows > 1 else axs[i]\n",
    "            sns.histplot(data=[temporal, semantic], legend=True, bins=N_BINS, ax=ax)\n",
    "            ax.legend([\"Temporal\", \"Semantic\"], loc='upper left')\n",
    "            ax.set_xlabel('Similarity')\n",
    "            ax.set_ylabel('Frequency')\n",
    "            ax.set_xlim(0, 1)\n",
    "            input_mode = \"Text and Video\" if input_mode==\"textvideo\" else input_mode.capitalize()\n",
    "            ax.set_title(f\"{llm_model} {input_mode} | {env_name}, \")\n",
    "\n",
    "llm_model = \"video-llava\"\n",
    "envs = ENVIRONMENT_NAMES\n",
    "input_modes = [\"video\"]\n",
    "make_histogram_grid(envs, input_modes)\n"
   ]
  },
  {
   "cell_type": "markdown",
   "metadata": {},
   "source": [
    "### Make the rows for the table (LLM_NAME, ENV_NAME, INPUT_MODE, SIMILARITY_METRIC, SIMILARITY_VALUE)"
   ]
  },
  {
   "cell_type": "code",
   "execution_count": 77,
   "metadata": {},
   "outputs": [
    {
     "name": "stdout",
     "output_type": "stream",
     "text": [
      "gemini-pro\n",
      "['Door', 'Lift', 'PickPlace', 'Stack']\n",
      "textual: &$0.92 \\pm 0.06$ &$0.98 \\pm 0.02$ &$0.84 \\pm 0.15$ &$0.52 \\pm 0.21$ &$0.62 \\pm 0.13$ &$0.65 \\pm 0.14$ &$0.53 \\pm 0.15$ &$0.88 \\pm 0.05$ &\n",
      "______________________________________________________________________\n"
     ]
    }
   ],
   "source": [
    "# Make the big table of all the similarity results\n",
    "llm_model = \"gpt-4-vision-preview\"\n",
    "# input_modes = [\"textual\", \"textualvideo\" , \"video\"]\n",
    "input_modes = [\"textual\"]\n",
    "env_names =  ENVIRONMENT_NAMES\n",
    "print(llm_model)\n",
    "print(env_names)\n",
    "for input_mode in input_modes:\n",
    "    print(f\"{input_mode}: &\", end=\"\")\n",
    "    for env_name in env_names:\n",
    "        npresultspath =  LLM_OUTPUT_PATH(llm_model, input_mode, env_name)\n",
    "        similarity = np.load(f\"{npresultspath}_results.npz\", allow_pickle=True)\n",
    "        total_mean, total_std = np.mean(similarity['total']), np.std(similarity['total'])\n",
    "        temporal_mean, temporal_std = np.mean(similarity['temporal']), np.std(similarity['temporal'])\n",
    "        semantic_mean, semantic_std = np.mean(similarity['semantic']), np.std(similarity['semantic'])\n",
    "        print(f'${temporal_mean:.2f} \\pm {temporal_std:.2f}$ &', end=\"\")\n",
    "        print(f'${semantic_mean:.2f} \\pm {semantic_std:.2f}$ &', end=\"\")\n",
    "\n",
    "    print('')\n",
    "    print(\"______________________________________________________________________\")\n",
    "\n",
    "# Convert to latex:\n"
   ]
  },
  {
   "cell_type": "markdown",
   "metadata": {},
   "source": [
    "### Compute Random Baselines for Each Environment"
   ]
  },
  {
   "cell_type": "code",
   "execution_count": 9,
   "metadata": {},
   "outputs": [
    {
     "name": "stdout",
     "output_type": "stream",
     "text": [
      "['Door', 'Lift', 'PickPlace', 'Stack']\n",
      "$0.35 \\pm 0.10$ &$0.23 \\pm 0.10$ &$0.44 \\pm 0.12$ &$0.23 \\pm 0.04$ &$0.36 \\pm 0.13$ &$0.19 \\pm 0.05$ &$0.32 \\pm 0.09$ &$0.19 \\pm 0.06$ &"
     ]
    }
   ],
   "source": [
    "print(ENVIRONMENT_NAMES)\n",
    "for env_name in ENVIRONMENT_NAMES:\n",
    "    gt_files = _get_filepaths(env_name=env_name, \n",
    "                            llm_model=None, \n",
    "                            input_mode=None, \n",
    "                            kind=\"groundtruth\")\n",
    "    # print(f\"Env: {env_name}\")\n",
    "    n_runs = len(gt_files)\n",
    "    output = {\"temporal\": np.full(n_runs, np.nan), \n",
    "              \"semantic\": np.full(n_runs, np.nan), \n",
    "              \"total\": np.full(n_runs, np.nan)}\n",
    "    for idx, gt_file in enumerate(gt_files):\n",
    "        gt_subtask_decomposition = extract_subtask_from_groundtruth_file(gt_file)\n",
    "        N = gt_subtask_decomposition[-1][END_STEP_IDX]\n",
    "        random_subtask_decomposition = get_random_subtask_decomposition(N)\n",
    "        similarity = get_subtask_similarity(gt_subtask_decomposition, \n",
    "                                            random_subtask_decomposition)\n",
    "        temporal = similarity['temporal']\n",
    "        semantic = similarity['semantic']\n",
    "        total = similarity['total']\n",
    "        output['temporal'][idx] = temporal\n",
    "        output['semantic'][idx] = semantic\n",
    "        output['total'][idx] = total\n",
    "        # print(f\" Temporal: {temporal:.2f}, Semantic: {semantic:.2f}\")\n",
    "\n",
    "    temporal_mean, temporal_std = np.mean(output['temporal']), np.std(output['temporal'])\n",
    "    semantic_mean, semantic_std = np.mean(output['semantic']), np.std(output['semantic'])\n",
    "\n",
    "    print(f'${temporal_mean:.2f} \\pm {temporal_std:.2f}$ &', end=\"\")\n",
    "    print(f'${semantic_mean:.2f} \\pm {semantic_std:.2f}$ &', end=\"\")"
   ]
  },
  {
   "cell_type": "markdown",
   "metadata": {},
   "source": []
  }
 ],
 "metadata": {
  "kernelspec": {
   "display_name": "suite",
   "language": "python",
   "name": "python3"
  },
  "language_info": {
   "codemirror_mode": {
    "name": "ipython",
    "version": 3
   },
   "file_extension": ".py",
   "mimetype": "text/x-python",
   "name": "python",
   "nbconvert_exporter": "python",
   "pygments_lexer": "ipython3",
   "version": "3.10.0"
  }
 },
 "nbformat": 4,
 "nbformat_minor": 2
}
