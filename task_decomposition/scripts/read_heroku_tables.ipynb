{
 "cells": [
  {
   "cell_type": "code",
   "execution_count": 2,
   "metadata": {},
   "outputs": [],
   "source": [
    "import os\n",
    "from typing import Dict, List\n",
    "from collections import defaultdict\n",
    "import json\n",
    "\n",
    "import psycopg2\n",
    "from psycopg2.extras import DictCursor\n",
    "\n",
    "DATABASE_URI = os.getenv('DATABASE_URI')\n",
    "TABLE_PREFIX = \"prod_\"\n",
    "ANNOTATION_TABLE_NAME = TABLE_PREFIX + \"annotations\"\n",
    "SUBTASK_TABLE_NAME = TABLE_PREFIX + \"subtasks\"\n",
    "ANNOTATIONS_FOLDER = 'output'\n",
    "ANNOTATIONS_FILE_PATH = 'annotations_output.json'"
   ]
  },
  {
   "cell_type": "code",
   "execution_count": 19,
   "metadata": {},
   "outputs": [],
   "source": [
    "conn = psycopg2.connect(DATABASE_URI, sslmode=\"require\")\n",
    "cursor = conn.cursor(cursor_factory=DictCursor)"
   ]
  },
  {
   "cell_type": "code",
   "execution_count": 4,
   "metadata": {},
   "outputs": [],
   "source": [
    "def defaultdict_to_regular(d):\n",
    "    \"\"\" Recursively converts defaultdict to dict \"\"\"\n",
    "    if isinstance(d, defaultdict):\n",
    "        d = {k: defaultdict_to_regular(v) for k, v in d.items()}\n",
    "    return d"
   ]
  },
  {
   "cell_type": "code",
   "execution_count": 5,
   "metadata": {},
   "outputs": [],
   "source": [
    "def fetch_annotations(cursor: psycopg2.extensions.cursor) -> Dict[str, Dict]:\n",
    "    try:\n",
    "        # Fetch all annotations\n",
    "        query = f\"\"\"   \n",
    "            SELECT a.video_filename, a.id, a.username, a.created_at, s.start_step, s.end_step, s.subtask, s.time_spent\n",
    "            FROM {ANNOTATION_TABLE_NAME} a\n",
    "            JOIN {SUBTASK_TABLE_NAME} s ON a.id = s.annotation_id\"\"\"\n",
    "\n",
    "        cursor.execute(query)\n",
    "        rows = cursor.fetchall()\n",
    "\n",
    "        annotations = defaultdict(lambda: defaultdict(lambda: {\n",
    "            \"username\": None,\n",
    "            \"created_at\": None,\n",
    "            \"subtask_decomposition\": [],\n",
    "            \"time_spent\": 0,\n",
    "        }))\n",
    "\n",
    "        # Group the data by video filename\n",
    "        for row in rows:\n",
    "            # Using field names instead of positional indexing\n",
    "            video_filename, annotation_id = row['video_filename'], row['id']\n",
    "\n",
    "            annotations[video_filename][annotation_id][\"username\"] = row['username']\n",
    "            annotations[video_filename][annotation_id][\"created_at\"] = row['created_at']\n",
    "            annotations[video_filename][annotation_id][\"subtask_decomposition\"].append(\n",
    "                (row['start_step'], row['end_step'], row['subtask'])\n",
    "            )\n",
    "            annotations[video_filename][annotation_id][\"time_spent\"] += row['time_spent']\n",
    "\n",
    "\n",
    "    except Exception as e:\n",
    "        print(f\"An error occurred: {e}\")\n",
    "        conn.rollback()  # Roll back the transaction in case of error\n",
    "    finally:\n",
    "        cursor.close()\n",
    "        conn.close()\n",
    "\n",
    "    return defaultdict_to_regular(annotations)\n"
   ]
  },
  {
   "cell_type": "code",
   "execution_count": 20,
   "metadata": {},
   "outputs": [
    {
     "data": {
      "text/plain": [
       "200"
      ]
     },
     "execution_count": 20,
     "metadata": {},
     "output_type": "execute_result"
    }
   ],
   "source": [
    "prod_annotations = fetch_annotations(cursor)\n",
    "len(prod_annotations.keys())\n"
   ]
  },
  {
   "cell_type": "code",
   "execution_count": 8,
   "metadata": {},
   "outputs": [],
   "source": [
    "def write_annotations_to_file(annotations: dict, filename: str):\n",
    "    \"\"\"Writes the annotations data to a JSON file inside the correct directory.\"\"\"\n",
    "\n",
    "    # Get the path to the correct 'task_decomposition' directory\n",
    "    # We assume the notebook is running within 'task_decomposition/scripts', and we move up two levels\n",
    "    current_dir = os.path.dirname(os.path.abspath('.'))  # This gets the parent directory of the current folder\n",
    "\n",
    "    # Now define the correct path to 'task_decomposition/output'\n",
    "    output_dir = os.path.join(current_dir, 'output')\n",
    "\n",
    "    # Create the output directory if it doesn't exist\n",
    "    os.makedirs(output_dir, exist_ok=True)\n",
    "\n",
    "    # Full path to the output file\n",
    "    file_path = os.path.join(output_dir, filename)\n",
    "    \n",
    "    # Debug print statement to check the actual file path\n",
    "    print(f\"Writing to file: {file_path}\")\n",
    "\n",
    "    # Write data to the file\n",
    "    with open(file_path, 'w') as file:\n",
    "        json.dump(annotations, file, indent=4, default=str)  # Use default=str to handle datetime objects\n",
    "    \n",
    "    print(f\"Annotations successfully written to {file_path}\")\n",
    "    return file_path"
   ]
  },
  {
   "cell_type": "code",
   "execution_count": 21,
   "metadata": {},
   "outputs": [
    {
     "name": "stdout",
     "output_type": "stream",
     "text": [
      "Writing to file: /Users/jonathansalfity/Documents/dev/task_decomposition/task_decomposition/output/annotations_output.json\n",
      "Annotations successfully written to /Users/jonathansalfity/Documents/dev/task_decomposition/task_decomposition/output/annotations_output.json\n"
     ]
    },
    {
     "data": {
      "text/plain": [
       "'/Users/jonathansalfity/Documents/dev/task_decomposition/task_decomposition/output/annotations_output.json'"
      ]
     },
     "execution_count": 21,
     "metadata": {},
     "output_type": "execute_result"
    }
   ],
   "source": [
    "write_annotations_to_file(prod_annotations, ANNOTATIONS_FILE_PATH)"
   ]
  },
  {
   "cell_type": "code",
   "execution_count": null,
   "metadata": {},
   "outputs": [],
   "source": []
  }
 ],
 "metadata": {
  "kernelspec": {
   "display_name": "py310",
   "language": "python",
   "name": "python3"
  },
  "language_info": {
   "codemirror_mode": {
    "name": "ipython",
    "version": 3
   },
   "file_extension": ".py",
   "mimetype": "text/x-python",
   "name": "python",
   "nbconvert_exporter": "python",
   "pygments_lexer": "ipython3",
   "version": "3.10.0"
  }
 },
 "nbformat": 4,
 "nbformat_minor": 4
}
