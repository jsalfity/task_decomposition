{
 "cells": [
  {
   "cell_type": "code",
   "execution_count": null,
   "metadata": {},
   "outputs": [],
   "source": [
    "import cv2\n",
    "import pandas as pd\n",
    "from typing import List\n",
    "import matplotlib.pyplot as plt\n",
    "import numpy as np\n",
    "import imageio\n",
    "\n",
    "import robosuite as suite\n",
    "\n",
    "from task_decomposition.paths import DATA_VIDEOS_PATH\n",
    "from task_decomposition.data.gpt_outputs import GPT_OUTPUTS\n",
    "\n",
    "FONT = cv2.FONT_HERSHEY_SIMPLEX\n"
   ]
  },
  {
   "cell_type": "code",
   "execution_count": null,
   "metadata": {},
   "outputs": [],
   "source": [
    "\n",
    "def get_subtask_description(idx: int, filename: str):\n",
    "    \"\"\"\n",
    "    Get the subtask for any given index\n",
    "    \"\"\"\n",
    "    subtask_decomposition = GPT_OUTPUTS[filename]\n",
    "    for start, end, description, _ in subtask_decomposition:\n",
    "        if start <= idx <= end:\n",
    "            return description\n",
    "    return \"Index not within any subtask range.\"\n",
    "\n",
    "def annotate_video_fn(frames: List, filename: str):\n",
    "    \"\"\"\n",
    "    Save a video of the frames\n",
    "    \"\"\"\n",
    "    subtask_decomposition = GPT_OUTPUTS[filename]\n",
    "    full_filename = DATA_VIDEOS_PATH + \"/\" + filename + \"_gpt_annotated.mp4\"\n",
    "    video_writer = imageio.get_writer(full_filename, fps=20)\n",
    "    for idx, frame in enumerate(frames):\n",
    "        # annotate videos with step number\n",
    "        frame = frame.astype(np.uint8)\n",
    "        subtask = get_subtask_description(idx, filename)\n",
    "        cv2.putText(\n",
    "            frame, subtask\n",
    "        )\n",
    "\n",
    "        video_writer.append_data(frame)\n",
    "\n",
    "    video_writer.close()\n",
    "    return"
   ]
  },
  {
   "cell_type": "code",
   "execution_count": null,
   "metadata": {},
   "outputs": [],
   "source": [
    "video_name = \"stack.mp4\"\n",
    "video = cv2.VideoCapture(DATA_VIDEOS_PATH+\"/\"+video_name)\n",
    "\n",
    "base64Frames = []\n",
    "while video.isOpened():\n",
    "    success, frame = video.read()\n",
    "    if not success:\n",
    "        break\n",
    "    _, buffer = cv2.imencode(\".jpg\", frame)\n",
    "    base64Frames.append(base64.b64encode(buffer).decode(\"utf-8\"))\n",
    "\n",
    "video.release()\n",
    "print(len(base64Frames), \"frames read.\")"
   ]
  }
 ],
 "metadata": {
  "language_info": {
   "name": "python"
  }
 },
 "nbformat": 4,
 "nbformat_minor": 2
}
