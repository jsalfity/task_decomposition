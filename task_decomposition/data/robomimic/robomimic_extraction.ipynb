{
 "cells": [
  {
   "cell_type": "code",
   "execution_count": 110,
   "metadata": {},
   "outputs": [],
   "source": [
    "import h5py\n",
    "import numpy as np\n",
    "import json\n",
    "import pprint\n",
    "pp = pprint.PrettyPrinter(indent=4)  # You can adjust the indentation as needed\n",
    "\n",
    "from task_decomposition.paths import DATA_ROBOMIMIC_PATH"
   ]
  },
  {
   "cell_type": "code",
   "execution_count": 115,
   "metadata": {},
   "outputs": [
    {
     "name": "stdout",
     "output_type": "stream",
     "text": [
      "{   'env_kwargs': {   'camera_depths': False,\n",
      "                      'camera_heights': 84,\n",
      "                      'camera_widths': 84,\n",
      "                      'control_freq': 20,\n",
      "                      'controller_configs': {   'control_delta': True,\n",
      "                                                'damping': 1,\n",
      "                                                'damping_limits': [0, 10],\n",
      "                                                'impedance_mode': 'fixed',\n",
      "                                                'input_max': 1,\n",
      "                                                'input_min': -1,\n",
      "                                                'interpolation': None,\n",
      "                                                'kp': 150,\n",
      "                                                'kp_limits': [0, 300],\n",
      "                                                'orientation_limits': None,\n",
      "                                                'output_max': [   0.05,\n",
      "                                                                  0.05,\n",
      "                                                                  0.05,\n",
      "                                                                  0.5,\n",
      "                                                                  0.5,\n",
      "                                                                  0.5],\n",
      "                                                'output_min': [   -0.05,\n",
      "                                                                  -0.05,\n",
      "                                                                  -0.05,\n",
      "                                                                  -0.5,\n",
      "                                                                  -0.5,\n",
      "                                                                  -0.5],\n",
      "                                                'position_limits': None,\n",
      "                                                'ramp_ratio': 0.2,\n",
      "                                                'type': 'OSC_POSE',\n",
      "                                                'uncouple_pos_ori': True},\n",
      "                      'env_configuration': 'single-arm-opposed',\n",
      "                      'has_offscreen_renderer': False,\n",
      "                      'has_renderer': False,\n",
      "                      'ignore_done': True,\n",
      "                      'reward_shaping': False,\n",
      "                      'robots': ['Panda', 'Panda'],\n",
      "                      'use_camera_obs': False,\n",
      "                      'use_object_obs': True},\n",
      "    'env_name': 'TwoArmTransport',\n",
      "    'env_version': '1.4.1',\n",
      "    'type': 1}\n",
      "<class 'numpy.ndarray'>\n"
     ]
    }
   ],
   "source": [
    "# filename = DATA_ROBOMIMIC_PATH + '/demo_v141.hdf5'\n",
    "filename = DATA_ROBOMIMIC_PATH + '/transport/low_dim_v141.hdf5'\n",
    "# filename = DATA_ROBOMIMIC_PATH + '/tool_hang/unpack.hdf5'\n",
    "f = h5py.File(filename, 'r')\n",
    "\n",
    "env_meta = json.loads(f[\"data\"].attrs[\"env_args\"])\n",
    "\n",
    "demos = list(f['data'].keys())\n",
    "idx = 0\n",
    "\n",
    "n_steps = f[\"data/{}/states\".format(demos[idx])].shape[0]\n",
    "ep = demos[idx]\n",
    "# ep_states = f[\"data/{}/states\".format(ep)][()]\n",
    "ep_actions = f[\"data/{}/actions\".format(ep)][()]\n",
    "ep_robot0_eef_pos = f[\"data/{}/obs/robot0_eef_pos\".format(ep)][()]\n",
    "ep_robot1_eef_pos = f[\"data/{}/obs/robot1_eef_pos\".format(ep)][()]\n",
    "ep_objects = f[\"data/{}/obs/object\".format(ep)][()]\n",
    "\n",
    "pp.pprint(type(ep_objects))\n",
    "\n",
    "for k in range(n_steps):\n",
    "    row_data = {\n",
    "        \"step\": k,\n",
    "        \"robot0_action\": np.around(ep_actions[k][:7], 2).tolist(),\n",
    "        \"robot1_action\": np.around(ep_actions[k][7:], 2).tolist(),\n",
    "        \"robot0_eef_pos\": np.around(ep_robot0_eef_pos[k], 2).tolist(),\n",
    "        \"robot1_eef_pos\": np.around(ep_robot1_eef_pos[k], 2).tolist(),\n",
    "    }\n",
    "f.close()"
   ]
  },
  {
   "cell_type": "code",
   "execution_count": 92,
   "metadata": {},
   "outputs": [
    {
     "data": {
      "text/plain": [
       "(714, 41)"
      ]
     },
     "execution_count": 92,
     "metadata": {},
     "output_type": "execute_result"
    }
   ],
   "source": []
  },
  {
   "cell_type": "code",
   "execution_count": 117,
   "metadata": {},
   "outputs": [],
   "source": [
    "import robosuite\n",
    "env_kwargs ={\n",
    "    \"has_renderer\": False,\n",
    "    \"has_offscreen_renderer\": True,\n",
    "    \"ignore_done\": True,\n",
    "    \"use_object_obs\": True,\n",
    "    \"use_camera_obs\": False,\n",
    "    \"control_freq\": 20,\n",
    "    \"controller_configs\": {\n",
    "        \"type\": \"OSC_POSE\",\n",
    "        \"input_max\": 1,\n",
    "        \"input_min\": -1,\n",
    "        \"output_max\": [\n",
    "            0.05,\n",
    "            0.05,\n",
    "            0.05,\n",
    "            0.5,\n",
    "            0.5,\n",
    "            0.5\n",
    "        ],\n",
    "        \"output_min\": [\n",
    "            -0.05,\n",
    "            -0.05,\n",
    "            -0.05,\n",
    "            -0.5,\n",
    "            -0.5,\n",
    "            -0.5\n",
    "        ],\n",
    "        \"kp\": 150,\n",
    "        \"damping\": 1,\n",
    "        \"impedance_mode\": \"fixed\",\n",
    "        \"kp_limits\": [\n",
    "            0,\n",
    "            300\n",
    "        ],\n",
    "        \"damping_limits\": [\n",
    "            0,\n",
    "            10\n",
    "        ],\n",
    "        \"position_limits\": 1,\n",
    "        \"orientation_limits\": 1,\n",
    "        \"uncouple_pos_ori\": True,\n",
    "        \"control_delta\": 1,\n",
    "        \"interpolation\": 1,\n",
    "        \"ramp_ratio\": 0.2\n",
    "    },\n",
    "    \"robots\": [\n",
    "        \"Panda\"\n",
    "    ],\n",
    "    \"camera_depths\": False,\n",
    "    \"camera_heights\": 84,\n",
    "    \"camera_widths\": 84,\n",
    "    \"reward_shaping\": False\n",
    "}\n",
    "\n",
    "env = robosuite.make(env_name=\"ToolHang\", **env_kwargs)\n",
    "env.reset()"
   ]
  },
  {
   "cell_type": "code",
   "execution_count": null,
   "metadata": {},
   "outputs": [],
   "source": []
  }
 ],
 "metadata": {
  "kernelspec": {
   "display_name": "suite",
   "language": "python",
   "name": "python3"
  },
  "language_info": {
   "codemirror_mode": {
    "name": "ipython",
    "version": 3
   },
   "file_extension": ".py",
   "mimetype": "text/x-python",
   "name": "python",
   "nbconvert_exporter": "python",
   "pygments_lexer": "ipython3",
   "version": "3.8.18"
  }
 },
 "nbformat": 4,
 "nbformat_minor": 2
}
