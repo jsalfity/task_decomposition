{
 "cells": [
  {
   "cell_type": "code",
   "execution_count": 1,
   "metadata": {},
   "outputs": [],
   "source": [
    "from moviepy.editor import VideoFileClip\n",
    "import moviepy.video.fx.all as vfx\n",
    "import os\n",
    "from task_decomposition.paths import  ROBOT_TRAJ_VIDEO_PATH"
   ]
  },
  {
   "cell_type": "code",
   "execution_count": null,
   "metadata": {},
   "outputs": [],
   "source": [
    "ROBOT_TRAJ_VIDEO_PATH(\"Door\")"
   ]
  },
  {
   "cell_type": "code",
   "execution_count": 5,
   "metadata": {},
   "outputs": [],
   "source": [
    "def slow_down_video(video_path, output_folder):\n",
    "    \"\"\"Slows down a video by 20x and saves it to a new location.\n",
    "\n",
    "    Args:\n",
    "        video_path (str): Path to the input video file.\n",
    "        output_folder (str): Path to the folder where the slowed-down video will be saved.\n",
    "    \"\"\"\n",
    "\n",
    "    # Load the video clip\n",
    "    clip = VideoFileClip(video_path)\n",
    "\n",
    "    # Apply the speed transformation (0.1 for 10x slowdown)\n",
    "    slowed_clip = clip.fx( vfx.speedx, 0.1)\n",
    "\n",
    "    # Construct the output file path\n",
    "    video_filename = os.path.basename(video_path)\n",
    "    output_path = os.path.join(output_folder, f\"{video_filename}\")\n",
    "\n",
    "    # Write the slowed-down video to the output path\n",
    "    slowed_clip.write_videofile(output_path, codec='libx264')\n",
    "\n",
    "    print(f\"Slowed down video saved to: {output_path}\")"
   ]
  },
  {
   "cell_type": "code",
   "execution_count": null,
   "metadata": {},
   "outputs": [],
   "source": [
    "# Get the folder containing your videos and the output folder\n",
    "envs = [\"Door\", \"Lift\", \"Stack\", \"PickPlace\"]\n",
    "Desktop = \"/Users/jonathansalfity/Desktop/\""
   ]
  },
  {
   "cell_type": "code",
   "execution_count": null,
   "metadata": {},
   "outputs": [],
   "source": [
    "for env in envs:\n",
    "    video_folder =  ROBOT_TRAJ_VIDEO_PATH(env)\n",
    "    output_folder = os.path.join(Desktop, f\"{env}/\")\n",
    "\n",
    "    # Make sure the output folder exists, create it if it doesn't\n",
    "    if not os.path.exists(output_folder):\n",
    "        os.makedirs(output_folder)\n",
    "\n",
    "    # Process each video in the folder\n",
    "    for filename in os.listdir(video_folder):\n",
    "        if filename.endswith(\".mp4\"):  # Or any other video format you're using\n",
    "            video_path = os.path.join(video_folder, filename)\n",
    "            slow_down_video(video_path, output_folder)"
   ]
  },
  {
   "cell_type": "code",
   "execution_count": 9,
   "metadata": {},
   "outputs": [],
   "source": [
    "# save each video filename to a list.\n",
    "# then place the list as each row of a csv file\n",
    "# prepend a string to each filename to indicate the environment\n",
    "gcloud_bucket_url = \"https://storage.cloud.google.com/robot_traj_videos\"\n",
    "csv_file = os.path.join(Desktop, \"video_filenames.csv\")\n",
    "with open(csv_file, \"w\") as f:\n",
    "    for env in envs:\n",
    "        output_folder = os.path.join(Desktop, f\"{env}/\")\n",
    "        for filename in os.listdir(output_folder):\n",
    "            if filename.endswith(\".mp4\"):\n",
    "                filename = f\"{gcloud_bucket_url}/{env}/{filename}\"\n",
    "                f.write(f\"{filename}\\n\")\n"
   ]
  },
  {
   "cell_type": "code",
   "execution_count": null,
   "metadata": {},
   "outputs": [],
   "source": []
  }
 ],
 "metadata": {
  "kernelspec": {
   "display_name": "py310",
   "language": "python",
   "name": "python3"
  },
  "language_info": {
   "codemirror_mode": {
    "name": "ipython",
    "version": 3
   },
   "file_extension": ".py",
   "mimetype": "text/x-python",
   "name": "python",
   "nbconvert_exporter": "python",
   "pygments_lexer": "ipython3",
   "version": "3.10.0"
  }
 },
 "nbformat": 4,
 "nbformat_minor": 2
}
